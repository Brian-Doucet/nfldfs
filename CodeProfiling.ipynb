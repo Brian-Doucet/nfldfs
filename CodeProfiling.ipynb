{
 "cells": [
  {
   "cell_type": "markdown",
   "metadata": {},
   "source": [
    "# Profiling and Timing Code\n",
    "\n",
    "This notebook is dedicated to profiling and testing the nfldfs package to look for bottlenecks and opportunities to optimize."
   ]
  },
  {
   "cell_type": "code",
   "execution_count": 2,
   "metadata": {},
   "outputs": [],
   "source": [
    "# Import packages\n",
    "from nfldfs import games\n",
    "%reload_ext line_profiler"
   ]
  },
  {
   "cell_type": "markdown",
   "metadata": {},
   "source": [
    "## Profiling the **find_games** function\n",
    "\n",
    "This function takes user input to decide which NFL games they want daily fantasy results for and outputs URLs that are used to fetch the data."
   ]
  },
  {
   "cell_type": "code",
   "execution_count": 7,
   "metadata": {},
   "outputs": [
    {
     "name": "stdout",
     "output_type": "stream",
     "text": [
      "\n",
      "*** Profile printout saved to text file 'lprof0'. \n"
     ]
    }
   ],
   "source": [
    "%lprun -T lprof0 -f games.find_games games.find_games(\"dk\", 2014, 1, 2019, 17)"
   ]
  },
  {
   "cell_type": "code",
   "execution_count": 10,
   "metadata": {},
   "outputs": [
    {
     "name": "stdout",
     "output_type": "stream",
     "text": [
      "Timer unit: 1e-07 s\n",
      "\n",
      "Total time: 0.0001628 s\n",
      "File: C:\\Users\\Brian\\Documents\\daily-fantasy-sports\\nfldfs\\games.py\n",
      "Function: find_games at line 13\n",
      "\n",
      "Line #      Hits         Time  Per Hit   % Time  Line Contents\n",
      "==============================================================\n",
      "    13                                           def find_games(dfs_site, season_from, week_from, season_to=None, week_to=None):\n",
      "    14                                               \"\"\"\n",
      "    15                                               Returns a list of URLs.\n",
      "    16                                           \n",
      "    17                                               Use this function to generate a list of URLs that can be used to fetch\n",
      "    18                                               NFL daily fantasy results for DraftKings, FanDuel, and Yahoo! Fantasy.\n",
      "    19                                           \n",
      "    20                                               Parameters\n",
      "    21                                               ----------\n",
      "    22                                               dfs_site : str, list of str\n",
      "    23                                                   Abbreviation for each daily fantasy site to find data for.\n",
      "    24                                                   Acceptable values: 'dk': DraftKings, 'fd': FanDuel, 'yh': Yahoo!\n",
      "    25                                               season_from: int\n",
      "    26                                                   The season number to begin search range.\n",
      "    27                                               week_to : int\n",
      "    28                                                   The week of the season to begin search range\n",
      "    29                                               season_to : int, default None\n",
      "    30                                                   The season number to search for data up to, inclusive.\n",
      "    31                                               week_to : int, default None\n",
      "    32                                                   week_to (int): The week number to search for data up to, inclusive.\n",
      "    33                                           \n",
      "    34                                               Returns\n",
      "    35                                               -------\n",
      "    36                                               A list of formatted URL strings\n",
      "    37                                           \n",
      "    38                                               Example\n",
      "    39                                               -------\n",
      "    40                                               URLs for week 1 of the 2014 season for DraftKings and FanDuel.\n",
      "    41                                               >>> find_games(dfs_site=['dk', 'fd'], season_from=2014, week_from=1)\n",
      "    42                                               ['http://rotoguru1.com/cgi-bin/fyday.pl?week=1&year=2014&game=dk&scsv=1',\n",
      "    43                                               'http://rotoguru1.com/cgi-bin/fyday.pl?week=1&year=2014&game=fd&scsv=1']\n",
      "    44                                               \"\"\"\n",
      "    45                                           \n",
      "    46         1         16.0     16.0      1.0      season_to_range = season_to\n",
      "    47         1          7.0      7.0      0.4      week_to_range = week_to\n",
      "    48                                           \n",
      "    49         1          5.0      5.0      0.3      if not season_to_range:\n",
      "    50                                                   season_to_range = season_from\n",
      "    51                                           \n",
      "    52         1          5.0      5.0      0.3      if not week_to_range:\n",
      "    53                                                   week_to_range = week_from\n",
      "    54                                           \n",
      "    55         1          4.0      4.0      0.2      games = dfs_site\n",
      "    56         1         23.0     23.0      1.4      seasons = [*range(season_from, season_to_range + 1)]\n",
      "    57         1         11.0     11.0      0.7      weeks = [*range(week_from, week_to_range + 1)]\n",
      "    58                                           \n",
      "    59         1          4.0      4.0      0.2      base_url = \"http://rotoguru1.com/cgi-bin/fyday.pl?week={}&year={}&game={}&scsv=1\"\n",
      "    60         1       1549.0   1549.0     95.1      game_urls = [base_url.format(w, s, g) for w, s, g in itertools.product(weeks,seasons, games)]\n",
      "    61                                           \n",
      "    62         1          4.0      4.0      0.2      return game_urls\n"
     ]
    }
   ],
   "source": [
    "# Read the output\n",
    "print(open('lprof0', 'r').read())"
   ]
  },
  {
   "cell_type": "code",
   "execution_count": null,
   "metadata": {},
   "outputs": [],
   "source": []
  }
 ],
 "metadata": {
  "kernelspec": {
   "display_name": "Python 3",
   "language": "python",
   "name": "python3"
  },
  "language_info": {
   "codemirror_mode": {
    "name": "ipython",
    "version": 3
   },
   "file_extension": ".py",
   "mimetype": "text/x-python",
   "name": "python",
   "nbconvert_exporter": "python",
   "pygments_lexer": "ipython3",
   "version": "3.7.3"
  }
 },
 "nbformat": 4,
 "nbformat_minor": 2
}
